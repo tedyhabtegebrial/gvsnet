{
 "metadata": {
  "language_info": {
   "codemirror_mode": {
    "name": "ipython",
    "version": 3
   },
   "file_extension": ".py",
   "mimetype": "text/x-python",
   "name": "python",
   "nbconvert_exporter": "python",
   "pygments_lexer": "ipython3",
   "version": "3.6.9-final"
  },
  "orig_nbformat": 2,
  "kernelspec": {
   "name": "python3",
   "display_name": "Python 3",
   "language": "python"
  }
 },
 "nbformat": 4,
 "nbformat_minor": 2,
 "cells": [
  {
   "cell_type": "code",
   "execution_count": 44,
   "metadata": {},
   "outputs": [],
   "source": [
    "import os\n",
    "import numpy as np\n",
    "import csv\n",
    "from pathlib import Path"
   ]
  },
  {
   "cell_type": "code",
   "execution_count": 48,
   "metadata": {},
   "outputs": [],
   "source": [
    "file_path = '/netscratch/teddy/carla/raw800x400/test/carla_5_cities_test_split_file.txt'\n",
    "output_file = './test_frames.txt'\n"
   ]
  },
  {
   "cell_type": "code",
   "execution_count": 68,
   "metadata": {},
   "outputs": [],
   "source": [
    "def filter_name(fnames):\n",
    "    cam_group_1 = Path(fnames[0]).parent.parent.stem\n",
    "    ref = fnames[0].replace(cam_group_1, cam_group_1[:-3]+'_00')\n",
    "    cam_group_2 = Path(fnames[1]).parent.parent.stem\n",
    "    trg = fnames[1].replace(cam_group_2, cam_group_2[:-3]+'_01')\n",
    "    return ref + ',' + trg + '\\n'\n",
    "new_names = []\n",
    "old_names = []\n",
    "with open(file_path, 'r') as fid:\n",
    "    reader = csv.reader(fid)\n",
    "    for line in reader:\n",
    "        old_names.append(line)\n",
    "        filtered = filter_name(line).replace('/data/teddy/temporary_carla_test/', '')\n",
    "        new_names.append(filtered)"
   ]
  },
  {
   "cell_type": "code",
   "execution_count": 69,
   "metadata": {},
   "outputs": [],
   "source": [
    "with open(output_file, 'w') as fid:\n",
    "    for line in new_names:\n",
    "        fid.write(line)"
   ]
  },
  {
   "cell_type": "code",
   "execution_count": 70,
   "metadata": {},
   "outputs": [
    {
     "output_type": "stream",
     "name": "stdout",
     "text": [
      "/data/teddy/temporary_carla_test/Town04/weather_03/HorizontalCameras_00/rgb/009990.png, \n /data/teddy/temporary_carla_test/Town04/weather_03/HorizontalCameras_01/rgb/009990.png\n"
     ]
    },
    {
     "output_type": "execute_result",
     "data": {
      "text/plain": [
       "['/data/teddy/temporary_carla_test/Town04/weather_03/HorizontalCameras_02/rgb/009990.png',\n",
       " '/data/teddy/temporary_carla_test/Town04/weather_03/HorizontalCameras_00/rgb/009990.png']"
      ]
     },
     "metadata": {},
     "execution_count": 70
    }
   ],
   "source": [
    "print('/data/teddy/temporary_carla_test/Town04/weather_03/HorizontalCameras_00/rgb/009990.png, \\n /data/teddy/temporary_carla_test/Town04/weather_03/HorizontalCameras_01/rgb/009990.png')\n",
    "old_names[-1]"
   ]
  },
  {
   "cell_type": "code",
   "execution_count": null,
   "metadata": {},
   "outputs": [],
   "source": []
  },
  {
   "cell_type": "code",
   "execution_count": 67,
   "metadata": {},
   "outputs": [
    {
     "output_type": "execute_result",
     "data": {
      "text/plain": [
       "'/netscratch/teddy/gvsnet/data'"
      ]
     },
     "metadata": {},
     "execution_count": 67
    }
   ],
   "source": [
    "os.getcwd()"
   ]
  },
  {
   "cell_type": "code",
   "execution_count": null,
   "metadata": {},
   "outputs": [],
   "source": []
  }
 ]
}